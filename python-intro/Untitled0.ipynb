{
 "metadata": {
  "name": "Untitled0"
 },
 "nbformat": 3,
 "nbformat_minor": 0,
 "worksheets": [
  {
   "cells": [
    {
     "cell_type": "code",
     "collapsed": false,
     "input": [
      "import numpy as np"
     ],
     "language": "python",
     "metadata": {},
     "outputs": [],
     "prompt_number": 1
    },
    {
     "cell_type": "code",
     "collapsed": false,
     "input": [
      "!head -17 eng-hourly-08012013-08312013.csv"
     ],
     "language": "python",
     "metadata": {},
     "outputs": [
      {
       "output_type": "stream",
       "stream": "stdout",
       "text": [
        "\"Station Name\",\"VANCOUVER INTL A\"\r\n",
        "\"Province\",\"BRITISH COLUMBIA\"\r\n",
        "\"Latitude\",\"49.19\"\r\n",
        "\"Longitude\",\"-123.18\"\r\n",
        "\"Elevation\",\"4.30\"\r\n",
        "\"Climate Identifier\",\"1108395\"\r\n",
        "\"WMO Identifier\",\"71892\"\r\n",
        "\"TC Identifier\",\"YVR\"\r\n",
        "\"All times are specified in Local Standard Time (LST). Add 1 hour to adjust for Daylight Saving Time where and when it is observed.\"\r\n",
        "\r\n",
        "\"Legend\"\r\n",
        "\"M\",\"Missing\"\r\n",
        "\"E\",\"Estimated\"\r\n",
        "\"NA\",\"Not Available\"\r\n",
        "\"**\",\"Partner data that is not subject to review by the National Climate Archives\"\r\n",
        "\r\n",
        "\"Date/Time\",\"Year\",\"Month\",\"Day\",\"Time\",\"Data Quality\",\"Temp (\ufffdC)\",\"Temp Flag\",\"Dew Point Temp (\ufffdC)\",\"Dew Point Temp Flag\",\"Rel Hum (%)\",\"Rel Hum Flag\",\"Wind Dir (10s deg)\",\"Wind Dir Flag\",\"Wind Spd (km/h)\",\"Wind Spd Flag\",\"Visibility (km)\",\"Visibility Flag\",\"Stn Press (kPa)\",\"Stn Press Flag\",\"Hmdx\",\"Hmdx Flag\",\"Wind Chill\",\"Wind Chill Flag\",\"Weather\"\r\n"
       ]
      }
     ],
     "prompt_number": 6
    },
    {
     "cell_type": "code",
     "collapsed": false,
     "input": [
      "data = np.genfromtxt('eng-hourly-08012013-08312013.csv', delimiter='\",\"', skiprows=16 )"
     ],
     "language": "python",
     "metadata": {},
     "outputs": [],
     "prompt_number": 13
    },
    {
     "cell_type": "code",
     "collapsed": false,
     "input": [
      "! head -270 eng-hourly-08012013-08312013.csv | tail"
     ],
     "language": "python",
     "metadata": {},
     "outputs": [
      {
       "output_type": "stream",
       "stream": "stdout",
       "text": [
        "\"2013-08-11 03:00\",\"2013\",\"08\",\"11\",\"03:00\",\"**\",\"16.5\",\"\",\"10.2\",\"\",\"66\",\"\",\"12\",\"\",\"20\",\"\",\"24.1\",\"\",\"101.55\",\"\",\"\",\"\",\"\",\"\",\"NA\"\r\n",
        "\"2013-08-11 04:00\",\"2013\",\"08\",\"11\",\"04:00\",\"**\",\"16.1\",\"\",\"11.1\",\"\",\"72\",\"\",\"10\",\"\",\"17\",\"\",\"24.1\",\"\",\"101.59\",\"\",\"\",\"\",\"\",\"\",\"Mostly Cloudy\"\r\n",
        "\"2013-08-11 05:00\",\"2013\",\"08\",\"11\",\"05:00\",\"**\",\"16.1\",\"\",\"11.3\",\"\",\"73\",\"\",\"13\",\"\",\"10\",\"\",\"32.2\",\"\",\"101.57\",\"\",\"\",\"\",\"\",\"\",\"NA\"\r\n",
        "\"2013-08-11 06:00\",\"2013\",\"08\",\"11\",\"06:00\",\"**\",\"16.5\",\"\",\"11.3\",\"\",\"71\",\"\",\"12\",\"\",\"21\",\"\",\"32.2\",\"\",\"101.63\",\"\",\"\",\"\",\"\",\"\",\"NA\"\r\n",
        "\"2013-08-11 07:00\",\"2013\",\"08\",\"11\",\"07:00\",\"**\",\"16.5\",\"\",\"12.3\",\"\",\"76\",\"\",\"12\",\"\",\"17\",\"\",\"32.2\",\"\",\"101.62\",\"\",\"\",\"\",\"\",\"\",\"Mostly Cloudy\"\r\n",
        "\"2013-08-11 08:00\",\"2013\",\"08\",\"11\",\"08:00\",\"**\",\"16.3\",\"\",\"12.9\",\"\",\"80\",\"\",\"13\",\"\",\"24\",\"\",\"24.1\",\"\",\"101.72\",\"\",\"\",\"\",\"\",\"\",\"NA\"\r\n",
        "\"2013-08-11 09:00\",\"2013\",\"08\",\"11\",\"09:00\",\"**\",\"15.5\",\"\",\"12.7\",\"\",\"83\",\"\",\"12\",\"\",\"25\",\"\",\"24.1\",\"\",\"101.74\",\"\",\"\",\"\",\"\",\"\",\"Rain Showers\"\r\n",
        "\"2013-08-11 10:00\",\"2013\",\"08\",\"11\",\"10:00\",\"**\",\"14.9\",\"\",\"13.8\",\"\",\"93\",\"\",\"11\",\"\",\"18\",\"\",\"9.7\",\"\",\"101.75\",\"\",\"\",\"\",\"\",\"\",\"Thunderstorms,Rain Showers\"\r\n",
        "\"2013-08-11 11:00\",\"2013\",\"08\",\"11\",\"11:00\",\"**\",\"15.1\",\"\",\"13.5\",\"\",\"90\",\"\",\"12\",\"\",\"14\",\"\",\"19.3\",\"\",\"101.75\",\"\",\"\",\"\",\"\",\"\",\"NA\"\r\n",
        "\"2013-08-11 12:00\",\"2013\",\"08\",\"11\",\"12:00\",\"**\",\"17.0\",\"\",\"14.7\",\"\",\"86\",\"\",\"9\",\"\",\"10\",\"\",\"24.1\",\"\",\"101.75\",\"\",\"\",\"\",\"\",\"\",\"NA\"\r\n"
       ]
      }
     ],
     "prompt_number": 9
    },
    {
     "cell_type": "code",
     "collapsed": false,
     "input": [
      "data"
     ],
     "language": "python",
     "metadata": {},
     "outputs": [
      {
       "output_type": "pyout",
       "prompt_number": 14,
       "text": [
        "array([[   nan,    nan,    nan, ...,    nan,    nan,    nan],\n",
        "       [   nan,  2013.,     8., ...,    nan,    nan,    nan],\n",
        "       [   nan,  2013.,     8., ...,    nan,    nan,    nan],\n",
        "       ..., \n",
        "       [   nan,  2013.,     8., ...,    nan,    nan,    nan],\n",
        "       [   nan,  2013.,     8., ...,    nan,    nan,    nan],\n",
        "       [   nan,  2013.,     8., ...,    nan,    nan,    nan]])"
       ]
      }
     ],
     "prompt_number": 14
    },
    {
     "cell_type": "code",
     "collapsed": false,
     "input": [
      "data[-1]"
     ],
     "language": "python",
     "metadata": {},
     "outputs": [
      {
       "output_type": "pyout",
       "prompt_number": 15,
       "text": [
        "array([     nan,  2013.  ,     8.  ,    31.  ,      nan,      nan,\n",
        "          15.5 ,      nan,    14.6 ,      nan,    94.  ,      nan,\n",
        "          34.  ,      nan,    10.  ,      nan,    32.2 ,      nan,\n",
        "         101.02,      nan,      nan,      nan,      nan,      nan,      nan])"
       ]
      }
     ],
     "prompt_number": 15
    },
    {
     "cell_type": "code",
     "collapsed": false,
     "input": [
      "data = np.genfromtxt(\"eng-hourly-08012013-08312013.csv\", delimiter='\",\"', skiprows=15, names=True)"
     ],
     "language": "python",
     "metadata": {},
     "outputs": [],
     "prompt_number": 18
    },
    {
     "cell_type": "code",
     "collapsed": false,
     "input": [
      "def read_climate_file(filename):\n",
      "    '''Read an Environmenta Canada climate data CSV file and return its data. \n",
      "    '''\n",
      "    data = np.genfromtxt(filename, delimiter='\",\"', skiprows=15, names=True)\n",
      "    return\n",
      "\n"
     ],
     "language": "python",
     "metadata": {},
     "outputs": []
    }
   ],
   "metadata": {}
  }
 ]
}